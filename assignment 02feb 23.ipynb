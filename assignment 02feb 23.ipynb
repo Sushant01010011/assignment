{
 "cells": [
  {
   "cell_type": "code",
   "execution_count": 2,
   "id": "fdadd71e",
   "metadata": {
    "scrolled": true
   },
   "outputs": [
    {
     "name": "stdout",
     "output_type": "stream",
     "text": [
      "SUSHANT\n",
      "PROBHAT\n",
      "SATYAM\n",
      "ADARSH\n",
      "ANIKET\n"
     ]
    }
   ],
   "source": [
    "#01) Explain with an example each when to use a for loop and a while loop\n",
    "\n",
    "#we use for loop when we want to create a loop for the exact number of elements in the given list\n",
    "#example of for loop \n",
    "names=['SUSHANT','PROBHAT','SATYAM','ADARSH','ANIKET']\n",
    "for i in names :\n",
    "    print(i)"
   ]
  },
  {
   "cell_type": "code",
   "execution_count": 4,
   "id": "ad4d59f1",
   "metadata": {},
   "outputs": [
    {
     "name": "stdout",
     "output_type": "stream",
     "text": [
      "The Count is  0\n",
      "The Count is  1\n",
      "The Count is  2\n",
      "The Count is  3\n",
      "The Count is  4\n",
      "The Count is  5\n",
      "The Count is  6\n",
      "The Count is  7\n",
      "The Count is  8\n",
      "The Count is  9\n"
     ]
    }
   ],
   "source": [
    "#01)\n",
    "#we use while loop to create a loop until the required conditions are fulfilled\n",
    "#example of while loop\n",
    "\n",
    "num=0 #initiation of a variable \n",
    "while num < 10 : # this is the condition where i want the number to shown less then 10 times\n",
    "    print('The Count is ',num)\n",
    "    num=num+1"
   ]
  },
  {
   "cell_type": "code",
   "execution_count": 9,
   "id": "e6de3159",
   "metadata": {},
   "outputs": [
    {
     "name": "stdout",
     "output_type": "stream",
     "text": [
      "Sum of first 10 natural numbers: 55\n",
      "Product of first 10 natural numbers: 3628800\n"
     ]
    }
   ],
   "source": [
    "#02) write a python program to print the sum and product of the first 10 natural numbers using for and while loop\n",
    "num = 0\n",
    "product = 1\n",
    "\n",
    "for i in range(1, 11):\n",
    "    num =num+ i\n",
    "    product = product*i\n",
    "\n",
    "print(\"Sum of first 10 natural numbers:\", sum)\n",
    "print(\"Product of first 10 natural numbers:\", product)\n"
   ]
  },
  {
   "cell_type": "code",
   "execution_count": 8,
   "id": "ec12bab3",
   "metadata": {},
   "outputs": [
    {
     "name": "stdout",
     "output_type": "stream",
     "text": [
      "Sum of first 10 natural numbers: 55\n",
      "Product of first 10 natural numbers: 3628800\n"
     ]
    }
   ],
   "source": [
    "sum = 0\n",
    "product = 1\n",
    "num = 1\n",
    "\n",
    "while num<= 10:\n",
    "    sum = sum+num\n",
    "    product = product*num\n",
    "    num =num+ 1\n",
    "\n",
    "print(\"Sum of first 10 natural numbers:\", sum)\n",
    "print(\"Product of first 10 natural numbers:\", product)\n"
   ]
  },
  {
   "cell_type": "code",
   "execution_count": 11,
   "id": "0d5fc367",
   "metadata": {},
   "outputs": [
    {
     "name": "stdout",
     "output_type": "stream",
     "text": [
      "Enter the units of electricity consumed: 450\n",
      "Total electricity bill : Rs. 5050.0\n"
     ]
    }
   ],
   "source": [
    "#3) electric bill counter \n",
    "\n",
    "units = int(input(\"Enter the units of electricity consumed: \"))\n",
    "#here user will put their consumed unit.\n",
    "\n",
    "if units <= 100:\n",
    "    bill = units * 4.5#the first 100 units will be charged Rs.4.5/unit\n",
    "elif units <= 200:\n",
    "    bill = (100 * 4.5) + ((units - 100) * 6)#for first 100 it will be charged the same as above and then after rs. 6\n",
    "elif units <= 300:\n",
    "    bill = (100 * 4.5) + (100 * 6) + ((units - 200) * 10)#similarly after 200 units it will be charged rs.10\n",
    "else:\n",
    "    bill = (100 * 4.5) + (100 * 6) + (100 * 10) + ((units - 300) * 20)# then after it will charge rs.20\n",
    "\n",
    "print(\"Total electricity bill : Rs.\", bill)\n"
   ]
  },
  {
   "cell_type": "code",
   "execution_count": 14,
   "id": "3ff7d33c",
   "metadata": {},
   "outputs": [
    {
     "name": "stdout",
     "output_type": "stream",
     "text": [
      "Numbers whose cube is divisible by 4 or 5 is  [2, 4, 5, 6, 8, 10, 12, 14, 15, 16, 18, 20, 22, 24, 25, 26, 28, 30, 32, 34, 35, 36, 38, 40, 42, 44, 45, 46, 48, 50, 52, 54, 55, 56, 58, 60, 62, 64, 65, 66, 68, 70, 72, 74, 75, 76, 78, 80, 82, 84, 85, 86, 88, 90, 92, 94, 95, 96, 98, 100]\n"
     ]
    }
   ],
   "source": [
    "#Q4. Create a list of numbers from 1 to 100. Use for loop and while loop to calculate the cube of eachnumber and if the cube of that number is divisible by 4 or 5 then append that number in a list and print that list.\n",
    "#using for loop\n",
    "num = []\n",
    "for i in range(1, 101):#since we also need the 100 and we know that in range the upper limit is not included hence we use UL+1 \n",
    "    cube = i**3\n",
    "    if cube % 4 == 0 or cube % 5 == 0:\n",
    "        num.append(i)\n",
    "\n",
    "print(\"Numbers whose cube is divisible by 4 or 5 is \", num)\n",
    "\n"
   ]
  },
  {
   "cell_type": "code",
   "execution_count": 17,
   "id": "f450de54",
   "metadata": {},
   "outputs": [
    {
     "name": "stdout",
     "output_type": "stream",
     "text": [
      "Numbers whose cube is divisible by 4 or 5 is [2, 4, 5, 6, 8, 10, 12, 14, 15, 16, 18, 20, 22, 24, 25, 26, 28, 30, 32, 34, 35, 36, 38, 40, 42, 44, 45, 46, 48, 50, 52, 54, 55, 56, 58, 60, 62, 64, 65, 66, 68, 70, 72, 74, 75, 76, 78, 80, 82, 84, 85, 86, 88, 90, 92, 94, 95, 96, 98, 100]\n"
     ]
    }
   ],
   "source": [
    "#4)#WHILE LOOP\n",
    "num = []\n",
    "i = 1\n",
    "while i <= 100:\n",
    "    cube = i**3\n",
    "    if cube % 4 == 0 or cube % 5 == 0:\n",
    "        num.append(i)\n",
    "    i += 1\n",
    "\n",
    "print(\"Numbers whose cube is divisible by 4 or 5 is\", num)\n"
   ]
  },
  {
   "cell_type": "code",
   "execution_count": 20,
   "id": "483d4c3e",
   "metadata": {},
   "outputs": [
    {
     "name": "stdout",
     "output_type": "stream",
     "text": [
      "Number of vowels: 12\n"
     ]
    }
   ],
   "source": [
    "#question no. 5\n",
    "\n",
    "string = \"I want to become a data scientist\"\n",
    "vowels = \"A,E,I,O,U,a,e,i,o,u\"\n",
    "s = 0\n",
    "\n",
    "for i in string:\n",
    "    if i in vowels:\n",
    "        s += 1\n",
    "\n",
    "print(\"Number of vowels:\", s)\n",
    "\n",
    "#I first wrote the vowels in lower case and got the number count at 11 and then i manually counted it to 12 as the first letter index[0] is a upper case .\n",
    "#then i also entered the upper case vowels ."
   ]
  },
  {
   "cell_type": "code",
   "execution_count": null,
   "id": "c75ae7b2",
   "metadata": {},
   "outputs": [],
   "source": []
  }
 ],
 "metadata": {
  "kernelspec": {
   "display_name": "Python 3 (ipykernel)",
   "language": "python",
   "name": "python3"
  },
  "language_info": {
   "codemirror_mode": {
    "name": "ipython",
    "version": 3
   },
   "file_extension": ".py",
   "mimetype": "text/x-python",
   "name": "python",
   "nbconvert_exporter": "python",
   "pygments_lexer": "ipython3",
   "version": "3.9.13"
  }
 },
 "nbformat": 4,
 "nbformat_minor": 5
}
